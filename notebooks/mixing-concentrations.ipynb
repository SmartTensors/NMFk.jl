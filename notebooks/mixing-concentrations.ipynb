{
 "cells": [
  {
   "cell_type": "markdown",
   "metadata": {},
   "source": [
    "NMFk example: Extraction of signatures (features) from observation points (wells) \n",
    "---\n",
    "\n",
    "Case: Contaminant Concentration Dataset\n",
    "----"
   ]
  },
  {
   "cell_type": "markdown",
   "metadata": {},
   "source": [
    "Let us assume that there are multiple wells (monitoring points) detecting simultaneously multiple signals (here, contaminant plumes with different chemical signatures).\n",
    "Our goal is to estimate automatically the number of signals (plumes) using unsupervised machine learning (ML)\n",
    "Here, we apply our method called **NMFk** which uses NMF coupled with k-means clustering.\n",
    "For more information about **NMFk** and our unsupervised ML methods in general check  http://tensors.lanl.gov.\n",
    "\n",
    "In the example presented here, we assume that there are 20 wells (monitoring points), 2 sources (contaminant plumes), and 3 chemical species (e.g., nitrate, sulfate, chloride) detected at each well.\n",
    "\n",
    "These types of unsupervised machine learning analyses are applicable in many other situations where the mixing of signals (volumes/mass) is constrained by volumetric or weight constraints.\n",
    "For example, these types of problems occur in the case of mass transport in fluids (e.g., atmosphere, oceans, watersheds, oil/gas/geothermal reservoirs, aquifers, etc.)."
   ]
  },
  {
   "cell_type": "code",
   "execution_count": null,
   "metadata": {},
   "outputs": [],
   "source": [
    "import Pkg\n",
    "Pkg.resolve()\n",
    "import NMFk\n",
    "import Random"
   ]
  },
  {
   "cell_type": "code",
   "execution_count": 2,
   "metadata": {},
   "outputs": [],
   "source": [
    "nWells = 20\n",
    "nSources = 2\n",
    "nSpecies = 3\n",
    "Random.seed!(2015);"
   ]
  },
  {
   "cell_type": "markdown",
   "metadata": {},
   "source": [
    "Due to volumetric constraints, mixing coefficients of the different sources (plumes) at each of well (observation point) have to add to 1.\n",
    "\n",
    "The mixing matrix `W` is defined as:"
   ]
  },
  {
   "cell_type": "code",
   "execution_count": 3,
   "metadata": {},
   "outputs": [
    {
     "data": {
      "text/plain": [
       "20×2 Array{Float64,2}:\n",
       " 0.395136  0.604864\n",
       " 0.231592  0.768408\n",
       " 0.351722  0.648278\n",
       " 0.562318  0.437682\n",
       " 0.476007  0.523993\n",
       " 0.547533  0.452467\n",
       " 0.446452  0.553548\n",
       " 0.499894  0.500106\n",
       " 0.601403  0.398597\n",
       " 0.267675  0.732325\n",
       " 0.592915  0.407085\n",
       " 0.55854   0.44146 \n",
       " 0.735353  0.264647\n",
       " 0.364806  0.635194\n",
       " 0.121244  0.878756\n",
       " 0.788195  0.211805\n",
       " 0.245554  0.754446\n",
       " 0.818814  0.181186\n",
       " 0.450388  0.549612\n",
       " 0.507392  0.492608"
      ]
     },
     "metadata": {},
     "output_type": "display_data"
    }
   ],
   "source": [
    "W = rand(nWells, nSources)\n",
    "for i = 1:nWells\n",
    "\tW[i, :] ./= sum(W[i, :])\n",
    "end\n",
    "display(W)"
   ]
  },
  {
   "cell_type": "markdown",
   "metadata": {},
   "source": [
    "Here, `W` defines 2 mixing values for each of the 20 observation points.\n",
    "\n",
    "The 2 mixing values define how the 2 sources (signals) are mixed at each well.\n",
    "\n",
    "The mixing values for each well (along each row) add up to 1.\n",
    "\n",
    "Let us also define `H` as a matrix which specifies the concentrations of the 3 chemical species present in the 2 contaminant sources:"
   ]
  },
  {
   "cell_type": "code",
   "execution_count": 6,
   "metadata": {},
   "outputs": [
    {
     "data": {
      "text/plain": [
       "2×3 Array{Int64,2}:\n",
       " 100   0   3\n",
       "   5  10  20"
      ]
     },
     "execution_count": 6,
     "metadata": {},
     "output_type": "execute_result"
    }
   ],
   "source": [
    "H = [100 0 3; 5 10 20]"
   ]
  },
  {
   "cell_type": "markdown",
   "metadata": {},
   "source": [
    "Here, the first source (row 1) has elevated concentration for the first chemical component (100).\n",
    "\n",
    "The second source (row 2) has elevated concentrations for the second (10) and third (20) chemical species.\n",
    "\n",
    "Now for this synthetic problem, we can compute the synthetic observed concentrations at each the wells `X` as:"
   ]
  },
  {
   "cell_type": "code",
   "execution_count": 7,
   "metadata": {},
   "outputs": [
    {
     "data": {
      "text/plain": [
       "20×3 Array{Float64,2}:\n",
       " 42.5379  6.04864  13.2827 \n",
       " 27.0013  7.68408  16.0629 \n",
       " 38.4136  6.48278  14.0207 \n",
       " 58.4202  4.37682  10.4406 \n",
       " 50.2206  5.23993  11.9079 \n",
       " 57.0156  4.52467  10.6919 \n",
       " 47.413   5.53548  12.4103 \n",
       " 52.4899  5.00106  11.5018 \n",
       " 62.1333  3.98597   9.77616\n",
       " 30.4291  7.32325  15.4495 \n",
       " 61.3269  4.07085   9.92044\n",
       " 58.0613  4.4146   10.5048 \n",
       " 74.8585  2.64647   7.49901\n",
       " 39.6565  6.35194  13.7983 \n",
       " 16.5182  8.78756  17.9389 \n",
       " 79.8785  2.11805   6.60068\n",
       " 28.3277  7.54446  15.8256 \n",
       " 82.7873  1.81186   6.08016\n",
       " 47.7869  5.49612  12.3434 \n",
       " 53.2022  4.92608  11.3743 "
      ]
     },
     "execution_count": 7,
     "metadata": {},
     "output_type": "execute_result"
    }
   ],
   "source": [
    "X = W * H"
   ]
  },
  {
   "cell_type": "markdown",
   "metadata": {},
   "source": [
    "We can also make some of the observations ''missing'' by setting respective matrix entries equal to **NaN**:"
   ]
  },
  {
   "cell_type": "code",
   "execution_count": 8,
   "metadata": {},
   "outputs": [
    {
     "data": {
      "text/plain": [
       "20×3 Array{Float64,2}:\n",
       " NaN       6.04864  13.2827 \n",
       "  27.0013  7.68408  16.0629 \n",
       "  38.4136  6.48278  14.0207 \n",
       "  58.4202  4.37682  10.4406 \n",
       "  50.2206  5.23993  11.9079 \n",
       "  57.0156  4.52467  10.6919 \n",
       "  47.413   5.53548  12.4103 \n",
       "  52.4899  5.00106  11.5018 \n",
       "  62.1333  3.98597   9.77616\n",
       "  30.4291  7.32325  15.4495 \n",
       "  61.3269  4.07085   9.92044\n",
       "  58.0613  4.4146   10.5048 \n",
       "  74.8585  2.64647   7.49901\n",
       "  39.6565  6.35194  13.7983 \n",
       "  16.5182  8.78756  17.9389 \n",
       "  79.8785  2.11805   6.60068\n",
       "  28.3277  7.54446  15.8256 \n",
       "  82.7873  1.81186   6.08016\n",
       "  47.7869  5.49612  12.3434 \n",
       "  53.2022  4.92608  11.3743 "
      ]
     },
     "metadata": {},
     "output_type": "display_data"
    }
   ],
   "source": [
    "X[1, 1] = NaN\n",
    "display(X)"
   ]
  },
  {
   "cell_type": "markdown",
   "metadata": {},
   "source": [
    "Now assuming that only `X` is **known**, **NMFk** can estimate **unknown** `W` and `H`.\n",
    "\n",
    "**NMFk** estimates *automatically* the number signals (features; here, contaminant sources) present in the analyzed dataset `X`.\n",
    "\n",
    "The number of signals is equal to the number of columns in `W` and the number of rows in `H`.\n",
    "\n",
    "**NMFk** computes the number signals (features) based on silhouettes of the k-means clusters obtained from a series of **NMF** solutions using random initial guesses (see the papers and presentations at http://tensors.lanl.gov for more details).\n",
    "\n",
    "**NMFk** execution produces:"
   ]
  },
  {
   "cell_type": "code",
   "execution_count": 9,
   "metadata": {},
   "outputs": [
    {
     "name": "stderr",
     "output_type": "stream",
     "text": [
      "┌ Info: Saving requested but casefilename not specified; casefilename = \"nmfk\" will be used!\n",
      "└ @ NMFk /Users/monty/.julia/dev/NMFk/src/NMFkExecute.jl:32\n"
     ]
    },
    {
     "name": "stdout",
     "output_type": "stream",
     "text": [
      "\n",
      "OF: min 4.7198094793251044e-17 max 1.6465787849872077e-16 mean 8.306355188793821e-17 std 3.877523176667068e-17\n",
      "Worst correlation by columns: 24.25443447350524\n",
      "Worst correlation by rows: 3.423472891006975\n",
      "Worst norm by columns: 1.4078721785180554e-11\n",
      "Worst norm by rows: 2.650786898914382e-11\n",
      "Signals:  2 Fit:     12.20422 Silhouette:    0.9983215 AIC:    -40.96958\n"
     ]
    },
    {
     "name": "stderr",
     "output_type": "stream",
     "text": [
      "┌ Info: Saving requested but casefilename not specified; casefilename = \"nmfk\" will be used!\n",
      "└ @ NMFk /Users/monty/.julia/dev/NMFk/src/NMFkExecute.jl:32\n"
     ]
    },
    {
     "name": "stdout",
     "output_type": "stream",
     "text": [
      "\n",
      "OF: min 9.669055104621031e-17 max 1.6129725483140186e-14 mean 2.5333881794448646e-15 std 5.03244164533123e-15\n",
      "Worst correlation by columns: 24.254434475147093\n",
      "Worst correlation by rows: 3.4234728905820844\n",
      "Worst norm by columns: 2.6240932686909024e-11\n",
      "Worst norm by rows: 3.066852340964931e-11\n",
      "Signals:  3 Fit:     226.3254 Silhouette:   -0.2649711 AIC:     177.3217\n"
     ]
    },
    {
     "name": "stderr",
     "output_type": "stream",
     "text": [
      "┌ Info: Saving requested but casefilename not specified; casefilename = \"nmfk\" will be used!\n",
      "└ @ NMFk /Users/monty/.julia/dev/NMFk/src/NMFkExecute.jl:32\n"
     ]
    },
    {
     "name": "stdout",
     "output_type": "stream",
     "text": [
      "\n",
      "OF: min 2.222688145655218e-16 max 8.149071329880585e-14 mean 1.81573428733396e-14 std 2.8912947528325675e-14\n",
      "Worst correlation by columns: 24.254434465132285\n",
      "Worst correlation by rows: 3.4234728942268418\n",
      "Worst norm by columns: 4.788205412253758e-11\n",
      "Worst norm by rows: 4.3083159013292666e-11\n",
      "Signals:  4 Fit:     311.6967 Silhouette:    -0.218569 AIC:     242.2051\n"
     ]
    },
    {
     "name": "stderr",
     "output_type": "stream",
     "text": [
      "┌ Info: Saving requested but casefilename not specified; casefilename = \"nmfk\" will be used!\n",
      "└ @ NMFk /Users/monty/.julia/dev/NMFk/src/NMFkExecute.jl:32\n"
     ]
    },
    {
     "name": "stdout",
     "output_type": "stream",
     "text": [
      "\n",
      "OF: min 2.0865483858521294e-16 max 1.6885450845322277e-14 mean 4.026471390747544e-15 std 5.171338390891573e-15\n",
      "Worst correlation by columns: 24.25443446514534\n",
      "Worst correlation by rows: 3.423472890096886\n",
      "Worst norm by columns: 4.7236900232388383e-11\n",
      "Worst norm by rows: 5.598852104856424e-11\n",
      "Signals:  5 Fit:     170.9709 Silhouette:   -0.2012058 AIC:     252.7734\n"
     ]
    },
    {
     "name": "stderr",
     "output_type": "stream",
     "text": [
      "┌ Info: Saving requested but casefilename not specified; casefilename = \"nmfk\" will be used!\n",
      "└ @ NMFk /Users/monty/.julia/dev/NMFk/src/NMFkExecute.jl:32\n"
     ]
    },
    {
     "name": "stdout",
     "output_type": "stream",
     "text": [
      "\n",
      "OF: min 1.4174255064589598e-16 max 7.868719884820144e-14 mean 1.082942515339706e-14 std 2.402425702098544e-14\n",
      "Worst correlation by columns: 24.254434469204305\n",
      "Worst correlation by rows: 3.42347289206934\n",
      "Worst norm by columns: 3.749523745740863e-11\n",
      "Worst norm by rows: 4.130439216187876e-11\n",
      "Signals:  6 Fit:     1405.182 Silhouette:   -0.4183919 AIC:     423.0527\n"
     ]
    },
    {
     "name": "stderr",
     "output_type": "stream",
     "text": [
      "┌ Info: Saving requested but casefilename not specified; casefilename = \"nmfk\" will be used!\n",
      "└ @ NMFk /Users/monty/.julia/dev/NMFk/src/NMFkExecute.jl:32\n"
     ]
    },
    {
     "name": "stdout",
     "output_type": "stream",
     "text": [
      "\n",
      "OF: min 6.348874702734478e-16 max 1.1353478005590746e-13 mean 1.6310742928232433e-14 std 3.500973543617213e-14\n",
      "Worst correlation by columns: 24.254434468958106\n",
      "Worst correlation by rows: 3.4234728873142712\n",
      "Worst norm by columns: 7.726644714155334e-11\n",
      "Worst norm by rows: 9.572157473598802e-11\n",
      "Signals:  7 Fit:     2138.874 Silhouette:    -0.412846 AIC:     493.8393\n"
     ]
    },
    {
     "name": "stderr",
     "output_type": "stream",
     "text": [
      "┌ Info: Saving requested but casefilename not specified; casefilename = \"nmfk\" will be used!\n",
      "└ @ NMFk /Users/monty/.julia/dev/NMFk/src/NMFkExecute.jl:32\n"
     ]
    },
    {
     "name": "stdout",
     "output_type": "stream",
     "text": [
      "\n",
      "OF: min 4.5460256867435374e-15 max 3.6194380384475465e-14 mean 1.2155755184994836e-14 std 9.537585056291363e-15\n",
      "Worst correlation by columns: 24.25443446281948\n",
      "Worst correlation by rows: 3.4234728766076854\n",
      "Worst norm by columns: 2.345196439266021e-10\n",
      "Worst norm by rows: 2.707909192255653e-10\n",
      "Signals:  8 Fit:     612.8291 Silhouette:   -0.6611032 AIC:     466.0924\n"
     ]
    },
    {
     "name": "stderr",
     "output_type": "stream",
     "text": [
      "┌ Info: Saving requested but casefilename not specified; casefilename = \"nmfk\" will be used!\n",
      "└ @ NMFk /Users/monty/.julia/dev/NMFk/src/NMFkExecute.jl:32\n"
     ]
    },
    {
     "name": "stdout",
     "output_type": "stream",
     "text": [
      "\n",
      "OF: min 8.936231841753186e-16 max 4.7181245821629244e-14 mean 1.0863061425953257e-14 std 1.336505501310279e-14\n",
      "Worst correlation by columns: 24.25443447026324\n",
      "Worst correlation by rows: 3.4234728875212226\n",
      "Worst norm by columns: 1.1417914284797606e-10\n",
      "Worst norm by rows: 1.204339875688689e-10\n",
      "Signals:  9 Fit:     2361.796 Silhouette:   -0.5681798 AIC:     591.6888\n"
     ]
    },
    {
     "name": "stderr",
     "output_type": "stream",
     "text": [
      "┌ Info: Saving requested but casefilename not specified; casefilename = \"nmfk\" will be used!\n",
      "└ @ NMFk /Users/monty/.julia/dev/NMFk/src/NMFkExecute.jl:32\n"
     ]
    },
    {
     "name": "stdout",
     "output_type": "stream",
     "text": [
      "\n",
      "OF: min 1.7409101055687217e-15 max 2.5075396908200857e-14 mean 1.2620242072039992e-14 std 6.515506277918824e-15\n",
      "Worst correlation by columns: 24.254434469984375\n",
      "Worst correlation by rows: 3.4234728844899296\n",
      "Worst norm by columns: 1.4272904552399244e-10\n",
      "Worst norm by rows: 1.5767995419372723e-10\n",
      "Signals: 10 Fit:     4288.208 Silhouette:   -0.4725063 AIC:     672.8791\n",
      "Signals:  2 Fit:     12.20422 Silhouette:    0.9983215 AIC:    -40.96958\n",
      "Signals:  3 Fit:     226.3254 Silhouette:   -0.2649711 AIC:     177.3217\n",
      "Signals:  4 Fit:     311.6967 Silhouette:    -0.218569 AIC:     242.2051\n",
      "Signals:  5 Fit:     170.9709 Silhouette:   -0.2012058 AIC:     252.7734\n",
      "Signals:  6 Fit:     1405.182 Silhouette:   -0.4183919 AIC:     423.0527\n",
      "Signals:  7 Fit:     2138.874 Silhouette:    -0.412846 AIC:     493.8393\n",
      "Signals:  8 Fit:     612.8291 Silhouette:   -0.6611032 AIC:     466.0924\n",
      "Signals:  9 Fit:     2361.796 Silhouette:   -0.5681798 AIC:     591.6888\n",
      "Signals: 10 Fit:     4288.208 Silhouette:   -0.4725063 AIC:     672.8791\n"
     ]
    },
    {
     "name": "stderr",
     "output_type": "stream",
     "text": [
      "┌ Info: Results\n",
      "└ @ NMFk /Users/monty/.julia/dev/NMFk/src/NMFkExecute.jl:19\n",
      "┌ Info: Optimal solution: 2 signals\n",
      "└ @ NMFk /Users/monty/.julia/dev/NMFk/src/NMFkExecute.jl:25\n"
     ]
    }
   ],
   "source": [
    "We, He, fit, sil, aic, kopt = NMFk.execute(X, 2:10; mixture=:mixmatch);"
   ]
  },
  {
   "cell_type": "markdown",
   "metadata": {},
   "source": [
    "Above, **NMFk** provides estimates of `W` and `H` (`We` and `He`).\n",
    "These are vectors of matrices for a different number of sources. For example, `We[2]`, `We[3]`, ..., `He[2]`, `He[3]`, ... .\n",
    "\n",
    "The **NMFk** analyses are performed for the number of sources varying between 2 and 10 (`2:10`).\n",
    "\n",
    "**NMFk** also returns the reconstruction error (`fit`); here, `fit` is a Frobenius norm between the **known** `X` and estimated `Xe` where `Xe` is computed as, for example, `We[2] * He[2]`.\n",
    "\n",
    "**NMFk** also provides the silhouettes of the k-means clusters (`sil`)\n",
    "\n",
    "`fit` and `sil` are vectors with estimates for a different number of sources.\n",
    "\n",
    "The automatically estimated number of features (plumes) `kopt` is returned as well.\n",
    "\n",
    "In the example above, `kopt` is equal to 2 which matches the **true** **unknown** number of sources.\n",
    "\n",
    "The estimated concentrations of the 3 sources are:"
   ]
  },
  {
   "cell_type": "code",
   "execution_count": 11,
   "metadata": {},
   "outputs": [
    {
     "data": {
      "text/plain": [
       "2×3 Array{Float64,2}:\n",
       " 89.9535   1.05752   4.79779\n",
       "  8.68881  9.6117   19.3399 "
      ]
     },
     "execution_count": 11,
     "metadata": {},
     "output_type": "execute_result"
    }
   ],
   "source": [
    "He[2]"
   ]
  },
  {
   "cell_type": "markdown",
   "metadata": {},
   "source": [
    "The concentration estimates are very close to the actual values `H`:"
   ]
  },
  {
   "cell_type": "code",
   "execution_count": 12,
   "metadata": {},
   "outputs": [
    {
     "data": {
      "text/plain": [
       "2×3 Array{Int64,2}:\n",
       " 100   0   3\n",
       "   5  10  20"
      ]
     },
     "execution_count": 12,
     "metadata": {},
     "output_type": "execute_result"
    }
   ],
   "source": [
    "H"
   ]
  },
  {
   "cell_type": "markdown",
   "metadata": {},
   "source": [
    "The estimated mixing coefficient at the 20 wells are:"
   ]
  },
  {
   "cell_type": "code",
   "execution_count": 13,
   "metadata": {},
   "outputs": [
    {
     "data": {
      "text/plain": [
       "20×2 Array{Float64,2}:\n",
       " 0.417606  0.582394\n",
       " 0.234504  0.765496\n",
       " 0.369     0.631   \n",
       " 0.60478   0.39522 \n",
       " 0.508147  0.491853\n",
       " 0.588226  0.411774\n",
       " 0.475058  0.524942\n",
       " 0.53489   0.46511 \n",
       " 0.648539  0.351461\n",
       " 0.274902  0.725098\n",
       " 0.639036  0.360964\n",
       " 0.600551  0.399449\n",
       " 0.798507  0.201493\n",
       " 0.383648  0.616352\n",
       " 0.11096   0.88904 \n",
       " 0.857669  0.142331\n",
       " 0.250136  0.749864\n",
       " 0.891949  0.108051\n",
       " 0.479465  0.520535\n",
       " 0.543285  0.456715"
      ]
     },
     "execution_count": 13,
     "metadata": {},
     "output_type": "execute_result"
    }
   ],
   "source": [
    "We[2]"
   ]
  },
  {
   "cell_type": "markdown",
   "metadata": {},
   "source": [
    "They are also very close to the actual values:"
   ]
  },
  {
   "cell_type": "code",
   "execution_count": 14,
   "metadata": {},
   "outputs": [
    {
     "data": {
      "text/plain": [
       "20×2 Array{Float64,2}:\n",
       " 0.395136  0.604864\n",
       " 0.231592  0.768408\n",
       " 0.351722  0.648278\n",
       " 0.562318  0.437682\n",
       " 0.476007  0.523993\n",
       " 0.547533  0.452467\n",
       " 0.446452  0.553548\n",
       " 0.499894  0.500106\n",
       " 0.601403  0.398597\n",
       " 0.267675  0.732325\n",
       " 0.592915  0.407085\n",
       " 0.55854   0.44146 \n",
       " 0.735353  0.264647\n",
       " 0.364806  0.635194\n",
       " 0.121244  0.878756\n",
       " 0.788195  0.211805\n",
       " 0.245554  0.754446\n",
       " 0.818814  0.181186\n",
       " 0.450388  0.549612\n",
       " 0.507392  0.492608"
      ]
     },
     "execution_count": 14,
     "metadata": {},
     "output_type": "execute_result"
    }
   ],
   "source": [
    "W"
   ]
  },
  {
   "cell_type": "markdown",
   "metadata": {},
   "source": [
    "These matrices can be also easily ploted:"
   ]
  },
  {
   "cell_type": "code",
   "execution_count": 17,
   "metadata": {},
   "outputs": [
    {
     "data": {
      "image/png": "[encoded data removed]",
      "text/plain": [
       "Compose.Image{Compose.PNGBackend}(IOBuffer(data=UInt8[...], readable=true, writable=true, seekable=true, append=false, size=5904, maxsize=Inf, ptr=5905, mark=-1), Cairo.CairoSurfaceBase{UInt32}(Ptr{Nothing} @0x0000000000000000, 535.0, 378.0), Cairo.CairoContext(Ptr{Nothing} @0x0000000000000000, Cairo.CairoSurfaceBase{UInt32}(Ptr{Nothing} @0x0000000000000000, 535.0, 378.0), Ptr{Nothing} @0x00007fb1418c1bd0), 534.5059133378628, 377.9527559055118, RGBA{Float64}(0.0,0.0,0.0,0.0), RGBA{Float64}(0.0,0.0,0.0,1.0), Float64[], Compose.LineCapButt(), Compose.LineJoinMiter(), true, 0.3mm, 3.880555555555555mm, \"Helvetica Neue,Helvetica,Arial,sans\", nothing, false, Compose.ImagePropertyState[], Compose.ImagePropertyFrame[], Dict{Type,Union{Nothing, Compose.Property}}(Compose.Property{Compose.FillPrimitive} => nothing), true, false, nothing, true, true, 3.7795275590551185, nothing, nothing)"
      ]
     },
     "metadata": {},
     "output_type": "display_data"
    },
    {
     "name": "stdout",
     "output_type": "stream",
     "text": [
      "\r"
     ]
    }
   ],
   "source": [
    "display(NMFk.plotmatrix(We[2]'))"
   ]
  },
  {
   "cell_type": "code",
   "execution_count": 18,
   "metadata": {},
   "outputs": [
    {
     "data": {
      "image/png": "[encoded data removed]",
      "text/plain": [
       "Compose.Image{Compose.PNGBackend}(IOBuffer(data=UInt8[...], readable=true, writable=true, seekable=true, append=false, size=5910, maxsize=Inf, ptr=5911, mark=-1), Cairo.CairoSurfaceBase{UInt32}(Ptr{Nothing} @0x0000000000000000, 535.0, 378.0), Cairo.CairoContext(Ptr{Nothing} @0x0000000000000000, Cairo.CairoSurfaceBase{UInt32}(Ptr{Nothing} @0x0000000000000000, 535.0, 378.0), Ptr{Nothing} @0x00007fb1418c1c90), 534.5059133378628, 377.9527559055118, RGBA{Float64}(0.0,0.0,0.0,0.0), RGBA{Float64}(0.0,0.0,0.0,1.0), Float64[], Compose.LineCapButt(), Compose.LineJoinMiter(), true, 0.3mm, 3.880555555555555mm, \"Helvetica Neue,Helvetica,Arial,sans\", nothing, false, Compose.ImagePropertyState[], Compose.ImagePropertyFrame[], Dict{Type,Union{Nothing, Compose.Property}}(Compose.Property{Compose.FillPrimitive} => nothing), true, false, nothing, true, true, 3.7795275590551185, nothing, nothing)"
      ]
     },
     "metadata": {},
     "output_type": "display_data"
    },
    {
     "name": "stdout",
     "output_type": "stream",
     "text": [
      "\r"
     ]
    }
   ],
   "source": [
    "display(NMFk.plotmatrix(W'))"
   ]
  },
  {
   "cell_type": "code",
   "execution_count": 19,
   "metadata": {},
   "outputs": [
    {
     "data": {
      "image/png": "[encoded data removed]",
      "text/plain": [
       "Compose.Image{Compose.PNGBackend}(IOBuffer(data=UInt8[...], readable=true, writable=true, seekable=true, append=false, size=4955, maxsize=Inf, ptr=4956, mark=-1), Cairo.CairoSurfaceBase{UInt32}(Ptr{Nothing} @0x0000000000000000, 535.0, 378.0), Cairo.CairoContext(Ptr{Nothing} @0x0000000000000000, Cairo.CairoSurfaceBase{UInt32}(Ptr{Nothing} @0x0000000000000000, 535.0, 378.0), Ptr{Nothing} @0x00007fb1418c1d50), 534.5059133378628, 377.9527559055118, RGBA{Float64}(0.0,0.0,0.0,0.0), RGBA{Float64}(0.0,0.0,0.0,1.0), Float64[], Compose.LineCapButt(), Compose.LineJoinMiter(), true, 0.3mm, 3.880555555555555mm, \"Helvetica Neue,Helvetica,Arial,sans\", nothing, false, Compose.ImagePropertyState[], Compose.ImagePropertyFrame[], Dict{Type,Union{Nothing, Compose.Property}}(Compose.Property{Compose.FillPrimitive} => nothing), true, false, nothing, true, true, 3.7795275590551185, nothing, nothing)"
      ]
     },
     "metadata": {},
     "output_type": "display_data"
    },
    {
     "name": "stdout",
     "output_type": "stream",
     "text": [
      "\r"
     ]
    }
   ],
   "source": [
    "display(NMFk.plotmatrix(He[2]))"
   ]
  },
  {
   "cell_type": "code",
   "execution_count": 20,
   "metadata": {},
   "outputs": [
    {
     "data": {
      "image/png": "[encoded data removed]",
      "text/plain": [
       "Compose.Image{Compose.PNGBackend}(IOBuffer(data=UInt8[...], readable=true, writable=true, seekable=true, append=false, size=3884, maxsize=Inf, ptr=3885, mark=-1), Cairo.CairoSurfaceBase{UInt32}(Ptr{Nothing} @0x0000000000000000, 535.0, 378.0), Cairo.CairoContext(Ptr{Nothing} @0x0000000000000000, Cairo.CairoSurfaceBase{UInt32}(Ptr{Nothing} @0x0000000000000000, 535.0, 378.0), Ptr{Nothing} @0x00007fb1418c1d50), 534.5059133378628, 377.9527559055118, RGBA{Float64}(0.0,0.0,0.0,0.0), RGBA{Float64}(0.0,0.0,0.0,1.0), Float64[], Compose.LineCapButt(), Compose.LineJoinMiter(), true, 0.3mm, 3.880555555555555mm, \"Helvetica Neue,Helvetica,Arial,sans\", nothing, false, Compose.ImagePropertyState[], Compose.ImagePropertyFrame[], Dict{Type,Union{Nothing, Compose.Property}}(Compose.Property{Compose.FillPrimitive} => nothing), true, false, nothing, true, true, 3.7795275590551185, nothing, nothing)"
      ]
     },
     "metadata": {},
     "output_type": "display_data"
    },
    {
     "name": "stdout",
     "output_type": "stream",
     "text": [
      "\r"
     ]
    }
   ],
   "source": [
    "display(NMFk.plotmatrix(H))"
   ]
  },
  {
   "cell_type": "markdown",
   "metadata": {},
   "source": [
    "In conclusion, **NMFk** successful estimated the number of plumes, the original concentrations at the contaminant sources (before mixing in the aquifer), and the mixing coefficients at each well.\n",
    "\n",
    "The **NMFk** unsupervised ML analyses are unbiased and robust."
   ]
  },
  {
   "cell_type": "code",
   "execution_count": null,
   "metadata": {},
   "outputs": [],
   "source": []
  }
 ],
 "metadata": {
  "kernelspec": {
   "display_name": "Julia 1.6.0",
   "language": "julia",
   "name": "julia-1.6"
  },
  "language_info": {
   "file_extension": ".jl",
   "mimetype": "application/julia",
   "name": "julia",
   "version": "1.6.1"
  }
 },
 "nbformat": 4,
 "nbformat_minor": 2
}
